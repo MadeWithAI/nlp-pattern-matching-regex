{
  "nbformat": 4,
  "nbformat_minor": 0,
  "metadata": {
    "colab": {
      "provenance": []
    },
    "kernelspec": {
      "name": "python3",
      "display_name": "Python 3"
    },
    "language_info": {
      "name": "python"
    }
  },
  "cells": [
    {
      "cell_type": "code",
      "execution_count": null,
      "metadata": {
        "id": "6K8y4IE1OenU"
      },
      "outputs": [],
      "source": [
        "import re"
      ]
    },
    {
      "cell_type": "code",
      "source": [
        "text = '''\n",
        "  Hello my name is regular expression. here it is (127)-838-2378 abc@gmail.com\n",
        "  this is my contact details phone: 1234567890 email: AnnA_1bc@gmail.com\n",
        "  hi, 1234567890 1bc@gmail.com\n",
        "  1234@gmail.io\n",
        "'''\n",
        "pattern = '\\d{10}|\\(\\d{3}\\)-\\d{3}-\\d{4}' \n",
        "pattern2 = '[a-zA-Z0-9_]*@[a-zA-Z0-9]*\\.[a-zA-Z]*'"
      ],
      "metadata": {
        "id": "FID0XUrZOi1A"
      },
      "execution_count": null,
      "outputs": []
    },
    {
      "cell_type": "code",
      "source": [
        "re.findall(pattern2, text)"
      ],
      "metadata": {
        "colab": {
          "base_uri": "https://localhost:8080/"
        },
        "id": "YYT8_wQ6SX5S",
        "outputId": "52c599ae-24df-41f2-9b7c-7022699da12d"
      },
      "execution_count": null,
      "outputs": [
        {
          "output_type": "execute_result",
          "data": {
            "text/plain": [
              "['abc@gmail.com', 'AnnA_1bc@gmail.com', '1bc@gmail.com', '1234@gmail.io']"
            ]
          },
          "metadata": {},
          "execution_count": 19
        }
      ]
    },
    {
      "cell_type": "code",
      "source": [
        "text2 = '''\n",
        "  My order number is 55558976\n",
        "  Order# 135265377\n",
        "  order id 63863849\n",
        "  Order No. is 67848349\n",
        "'''\n",
        "pattern2 = '[oO]rder[^\\d]*(\\d*)'"
      ],
      "metadata": {
        "id": "YpIeZII-Sa-3"
      },
      "execution_count": null,
      "outputs": []
    },
    {
      "cell_type": "code",
      "source": [
        "re.findall(pattern2, text2)"
      ],
      "metadata": {
        "colab": {
          "base_uri": "https://localhost:8080/"
        },
        "id": "Ht78CLdAcCeT",
        "outputId": "ab6b8a9b-1017-4871-bf27-8f2e807935a7"
      },
      "execution_count": null,
      "outputs": [
        {
          "output_type": "execute_result",
          "data": {
            "text/plain": [
              "['55558976', '135265377', '63863849', '67848349']"
            ]
          },
          "metadata": {},
          "execution_count": 21
        }
      ]
    }
  ]
}